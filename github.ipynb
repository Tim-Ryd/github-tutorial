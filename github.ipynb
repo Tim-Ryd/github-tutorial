{
 "cells": [
  {
   "cell_type": "markdown",
   "id": "90951ba6",
   "metadata": {},
   "source": [
    "# Git & GitHub\n"
   ]
  },
  {
   "cell_type": "markdown",
   "id": "06d3d66c",
   "metadata": {},
   "source": [
    "Kommandon\n",
    "\n",
    "- git add . = lägger till alla filer för att spara\n",
    "- git commit -m \n",
    "\"kommentar\" = sparar projekt i en snapshot\n",
    "- git push = Lägger till våran snapshot på github"
   ]
  },
  {
   "cell_type": "code",
   "execution_count": 1,
   "id": "1f2c4375",
   "metadata": {},
   "outputs": [
    {
     "name": "stdout",
     "output_type": "stream",
     "text": [
      "Hello world\n"
     ]
    }
   ],
   "source": [
    "print(\"Hello world\")"
   ]
  },
  {
   "cell_type": "markdown",
   "id": "d6a5b6b4",
   "metadata": {},
   "source": [
    "Något mer"
   ]
  }
 ],
 "metadata": {
  "kernelspec": {
   "display_name": ".venv (3.13.7)",
   "language": "python",
   "name": "python3"
  },
  "language_info": {
   "codemirror_mode": {
    "name": "ipython",
    "version": 3
   },
   "file_extension": ".py",
   "mimetype": "text/x-python",
   "name": "python",
   "nbconvert_exporter": "python",
   "pygments_lexer": "ipython3",
   "version": "3.13.7"
  }
 },
 "nbformat": 4,
 "nbformat_minor": 5
}
