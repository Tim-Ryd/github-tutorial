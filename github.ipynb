{
 "cells": [
  {
   "cell_type": "markdown",
   "id": "90951ba6",
   "metadata": {},
   "source": [
    "# Git & GitHub\n"
   ]
  },
  {
   "cell_type": "markdown",
   "id": "06d3d66c",
   "metadata": {},
   "source": [
    "Kommandon\n",
    "\n",
    "- git add . = lägger till alla filer för att spara\n",
    "- git commit -m \n",
    "\"kommentar\" = sparar projekt i en snapshot\n",
    "- git push = Lägger till våran snapshot på github"
   ]
  }
 ],
 "metadata": {
  "language_info": {
   "name": "python"
  }
 },
 "nbformat": 4,
 "nbformat_minor": 5
}
